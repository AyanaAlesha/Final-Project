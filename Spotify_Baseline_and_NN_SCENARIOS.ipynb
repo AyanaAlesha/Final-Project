{
 "cells": [
  {
   "cell_type": "markdown",
   "id": "83c23e45",
   "metadata": {},
   "source": [
    "\n",
    "# Spotify Listening — Baseline Predictive Model & Neural Network\n",
    "\n",
    "This notebook loads `spotify_history.csv`, prepares features, builds a **baseline model** and a **neural network**, and evaluates both.\n"
   ]
  },
  {
   "cell_type": "code",
   "execution_count": 48,
   "id": "5b627429",
   "metadata": {},
   "outputs": [
    {
     "data": {
      "text/html": [
       "<div>\n",
       "<style scoped>\n",
       "    .dataframe tbody tr th:only-of-type {\n",
       "        vertical-align: middle;\n",
       "    }\n",
       "\n",
       "    .dataframe tbody tr th {\n",
       "        vertical-align: top;\n",
       "    }\n",
       "\n",
       "    .dataframe thead th {\n",
       "        text-align: right;\n",
       "    }\n",
       "</style>\n",
       "<table border=\"1\" class=\"dataframe\">\n",
       "  <thead>\n",
       "    <tr style=\"text-align: right;\">\n",
       "      <th></th>\n",
       "      <th>Unnamed: 0</th>\n",
       "      <th>spotify_track_uri</th>\n",
       "      <th>ts</th>\n",
       "      <th>platform</th>\n",
       "      <th>ms_played</th>\n",
       "      <th>track_name</th>\n",
       "      <th>artist_name</th>\n",
       "      <th>album_name</th>\n",
       "      <th>reason_start</th>\n",
       "      <th>reason_end</th>\n",
       "      <th>shuffle</th>\n",
       "      <th>skipped</th>\n",
       "    </tr>\n",
       "  </thead>\n",
       "  <tbody>\n",
       "    <tr>\n",
       "      <th>0</th>\n",
       "      <td>0</td>\n",
       "      <td>2332</td>\n",
       "      <td>2013-07-08 02:44:34</td>\n",
       "      <td>web player</td>\n",
       "      <td>3185</td>\n",
       "      <td>NaN</td>\n",
       "      <td>The Mowgli's</td>\n",
       "      <td>Waiting For The Dawn</td>\n",
       "      <td>autoplay</td>\n",
       "      <td>clickrow</td>\n",
       "      <td>False</td>\n",
       "      <td>False</td>\n",
       "    </tr>\n",
       "    <tr>\n",
       "      <th>1</th>\n",
       "      <td>1</td>\n",
       "      <td>1098</td>\n",
       "      <td>2013-07-08 02:45:37</td>\n",
       "      <td>web player</td>\n",
       "      <td>61865</td>\n",
       "      <td>NaN</td>\n",
       "      <td>Calvin Harris</td>\n",
       "      <td>18 Months</td>\n",
       "      <td>clickrow</td>\n",
       "      <td>clickrow</td>\n",
       "      <td>False</td>\n",
       "      <td>False</td>\n",
       "    </tr>\n",
       "    <tr>\n",
       "      <th>2</th>\n",
       "      <td>2</td>\n",
       "      <td>48738</td>\n",
       "      <td>2013-07-08 02:50:24</td>\n",
       "      <td>web player</td>\n",
       "      <td>285386</td>\n",
       "      <td>NaN</td>\n",
       "      <td>Lana Del Rey</td>\n",
       "      <td>Born To Die - The Paradise Edition</td>\n",
       "      <td>clickrow</td>\n",
       "      <td>unknown</td>\n",
       "      <td>False</td>\n",
       "      <td>False</td>\n",
       "    </tr>\n",
       "    <tr>\n",
       "      <th>3</th>\n",
       "      <td>3</td>\n",
       "      <td>5777123</td>\n",
       "      <td>2013-07-08 02:52:40</td>\n",
       "      <td>web player</td>\n",
       "      <td>134022</td>\n",
       "      <td>NaN</td>\n",
       "      <td>Lana Del Rey</td>\n",
       "      <td>Born To Die - The Paradise Edition</td>\n",
       "      <td>trackdone</td>\n",
       "      <td>clickrow</td>\n",
       "      <td>False</td>\n",
       "      <td>False</td>\n",
       "    </tr>\n",
       "    <tr>\n",
       "      <th>4</th>\n",
       "      <td>4</td>\n",
       "      <td>3</td>\n",
       "      <td>2013-07-08 03:17:52</td>\n",
       "      <td>web player</td>\n",
       "      <td>0</td>\n",
       "      <td>NaN</td>\n",
       "      <td>Empire Of The Sun</td>\n",
       "      <td>Walking On A Dream</td>\n",
       "      <td>clickrow</td>\n",
       "      <td>nextbtn</td>\n",
       "      <td>False</td>\n",
       "      <td>False</td>\n",
       "    </tr>\n",
       "  </tbody>\n",
       "</table>\n",
       "</div>"
      ],
      "text/plain": [
       "   Unnamed: 0  spotify_track_uri                   ts    platform  ms_played  \\\n",
       "0           0               2332  2013-07-08 02:44:34  web player       3185   \n",
       "1           1               1098  2013-07-08 02:45:37  web player      61865   \n",
       "2           2              48738  2013-07-08 02:50:24  web player     285386   \n",
       "3           3            5777123  2013-07-08 02:52:40  web player     134022   \n",
       "4           4                  3  2013-07-08 03:17:52  web player          0   \n",
       "\n",
       "   track_name        artist_name                          album_name  \\\n",
       "0         NaN       The Mowgli's                Waiting For The Dawn   \n",
       "1         NaN      Calvin Harris                           18 Months   \n",
       "2         NaN       Lana Del Rey  Born To Die - The Paradise Edition   \n",
       "3         NaN       Lana Del Rey  Born To Die - The Paradise Edition   \n",
       "4         NaN  Empire Of The Sun                  Walking On A Dream   \n",
       "\n",
       "  reason_start reason_end  shuffle  skipped  \n",
       "0     autoplay   clickrow    False    False  \n",
       "1     clickrow   clickrow    False    False  \n",
       "2     clickrow    unknown    False    False  \n",
       "3    trackdone   clickrow    False    False  \n",
       "4     clickrow    nextbtn    False    False  "
      ]
     },
     "execution_count": 48,
     "metadata": {},
     "output_type": "execute_result"
    }
   ],
   "source": [
    "\n",
    "import pandas as pd\n",
    "import numpy as np\n",
    "\n",
    "# Load dataset\n",
    "df = pd.read_csv('/Users/ayanaaiken/Documents/SDC486L/archive/clean_dataframe.csv')\n",
    "df.head()\n"
   ]
  },
  {
   "cell_type": "code",
   "execution_count": 49,
   "id": "33812152",
   "metadata": {},
   "outputs": [
    {
     "name": "stdout",
     "output_type": "stream",
     "text": [
      "<class 'pandas.core.frame.DataFrame'>\n",
      "RangeIndex: 149860 entries, 0 to 149859\n",
      "Data columns (total 12 columns):\n",
      " #   Column             Non-Null Count   Dtype  \n",
      "---  ------             --------------   -----  \n",
      " 0   Unnamed: 0         149860 non-null  int64  \n",
      " 1   spotify_track_uri  149860 non-null  int64  \n",
      " 2   ts                 149860 non-null  object \n",
      " 3   platform           149860 non-null  object \n",
      " 4   ms_played          149860 non-null  int64  \n",
      " 5   track_name         25733 non-null   float64\n",
      " 6   artist_name        149860 non-null  object \n",
      " 7   album_name         149860 non-null  object \n",
      " 8   reason_start       149860 non-null  object \n",
      " 9   reason_end         149860 non-null  object \n",
      " 10  shuffle            149860 non-null  bool   \n",
      " 11  skipped            149860 non-null  bool   \n",
      "dtypes: bool(2), float64(1), int64(3), object(6)\n",
      "memory usage: 11.7+ MB\n"
     ]
    }
   ],
   "source": [
    "\n",
    "df.info()\n"
   ]
  },
  {
   "cell_type": "markdown",
   "id": "bf1e7092",
   "metadata": {},
   "source": [
    "## Feature Engineering"
   ]
  },
  {
   "cell_type": "code",
   "execution_count": 50,
   "id": "a926bca2",
   "metadata": {},
   "outputs": [
    {
     "data": {
      "text/html": [
       "<div>\n",
       "<style scoped>\n",
       "    .dataframe tbody tr th:only-of-type {\n",
       "        vertical-align: middle;\n",
       "    }\n",
       "\n",
       "    .dataframe tbody tr th {\n",
       "        vertical-align: top;\n",
       "    }\n",
       "\n",
       "    .dataframe thead th {\n",
       "        text-align: right;\n",
       "    }\n",
       "</style>\n",
       "<table border=\"1\" class=\"dataframe\">\n",
       "  <thead>\n",
       "    <tr style=\"text-align: right;\">\n",
       "      <th></th>\n",
       "      <th>Unnamed: 0</th>\n",
       "      <th>spotify_track_uri</th>\n",
       "      <th>ts</th>\n",
       "      <th>platform</th>\n",
       "      <th>ms_played</th>\n",
       "      <th>track_name</th>\n",
       "      <th>artist_name</th>\n",
       "      <th>album_name</th>\n",
       "      <th>reason_start</th>\n",
       "      <th>reason_end</th>\n",
       "      <th>shuffle</th>\n",
       "      <th>skipped</th>\n",
       "      <th>hour</th>\n",
       "      <th>day</th>\n",
       "      <th>month</th>\n",
       "      <th>artist_encoded</th>\n",
       "      <th>track_encoded</th>\n",
       "    </tr>\n",
       "  </thead>\n",
       "  <tbody>\n",
       "    <tr>\n",
       "      <th>0</th>\n",
       "      <td>0</td>\n",
       "      <td>2332</td>\n",
       "      <td>2013-07-08 02:44:34</td>\n",
       "      <td>web player</td>\n",
       "      <td>3185</td>\n",
       "      <td>NaN</td>\n",
       "      <td>The Mowgli's</td>\n",
       "      <td>Waiting For The Dawn</td>\n",
       "      <td>autoplay</td>\n",
       "      <td>clickrow</td>\n",
       "      <td>False</td>\n",
       "      <td>False</td>\n",
       "      <td>2</td>\n",
       "      <td>8</td>\n",
       "      <td>7</td>\n",
       "      <td>3641</td>\n",
       "      <td>298</td>\n",
       "    </tr>\n",
       "    <tr>\n",
       "      <th>1</th>\n",
       "      <td>1</td>\n",
       "      <td>1098</td>\n",
       "      <td>2013-07-08 02:45:37</td>\n",
       "      <td>web player</td>\n",
       "      <td>61865</td>\n",
       "      <td>NaN</td>\n",
       "      <td>Calvin Harris</td>\n",
       "      <td>18 Months</td>\n",
       "      <td>clickrow</td>\n",
       "      <td>clickrow</td>\n",
       "      <td>False</td>\n",
       "      <td>False</td>\n",
       "      <td>2</td>\n",
       "      <td>8</td>\n",
       "      <td>7</td>\n",
       "      <td>586</td>\n",
       "      <td>298</td>\n",
       "    </tr>\n",
       "    <tr>\n",
       "      <th>2</th>\n",
       "      <td>2</td>\n",
       "      <td>48738</td>\n",
       "      <td>2013-07-08 02:50:24</td>\n",
       "      <td>web player</td>\n",
       "      <td>285386</td>\n",
       "      <td>NaN</td>\n",
       "      <td>Lana Del Rey</td>\n",
       "      <td>Born To Die - The Paradise Edition</td>\n",
       "      <td>clickrow</td>\n",
       "      <td>unknown</td>\n",
       "      <td>False</td>\n",
       "      <td>False</td>\n",
       "      <td>2</td>\n",
       "      <td>8</td>\n",
       "      <td>7</td>\n",
       "      <td>2070</td>\n",
       "      <td>298</td>\n",
       "    </tr>\n",
       "  </tbody>\n",
       "</table>\n",
       "</div>"
      ],
      "text/plain": [
       "   Unnamed: 0  spotify_track_uri                  ts    platform  ms_played  \\\n",
       "0           0               2332 2013-07-08 02:44:34  web player       3185   \n",
       "1           1               1098 2013-07-08 02:45:37  web player      61865   \n",
       "2           2              48738 2013-07-08 02:50:24  web player     285386   \n",
       "\n",
       "   track_name    artist_name                          album_name reason_start  \\\n",
       "0         NaN   The Mowgli's                Waiting For The Dawn     autoplay   \n",
       "1         NaN  Calvin Harris                           18 Months     clickrow   \n",
       "2         NaN   Lana Del Rey  Born To Die - The Paradise Edition     clickrow   \n",
       "\n",
       "  reason_end  shuffle  skipped  hour  day  month  artist_encoded  \\\n",
       "0   clickrow    False    False     2    8      7            3641   \n",
       "1   clickrow    False    False     2    8      7             586   \n",
       "2    unknown    False    False     2    8      7            2070   \n",
       "\n",
       "   track_encoded  \n",
       "0            298  \n",
       "1            298  \n",
       "2            298  "
      ]
     },
     "execution_count": 50,
     "metadata": {},
     "output_type": "execute_result"
    }
   ],
   "source": [
    "\n",
    "from sklearn.preprocessing import LabelEncoder\n",
    "\n",
    "# Parse timestamp\n",
    "df['ts'] = pd.to_datetime(df['ts'], errors='coerce')\n",
    "\n",
    "# Time features\n",
    "df['hour'] = df['ts'].dt.hour\n",
    "df['day'] = df['ts'].dt.day\n",
    "df['month'] = df['ts'].dt.month\n",
    "\n",
    "# Encoded artist/track\n",
    "le_artist = LabelEncoder()\n",
    "df['artist_encoded'] = le_artist.fit_transform(df['artist_name'].astype(str))\n",
    "\n",
    "le_track = LabelEncoder()\n",
    "df['track_encoded'] = le_track.fit_transform(df['track_name'].astype(str))\n",
    "\n",
    "# Prepare features for classification (skip) and regression (ms_played)\n",
    "X_clf = df[['hour','day','month','artist_encoded','track_encoded']]\n",
    "y_clf = df['skipped'].astype(int)\n",
    "\n",
    "X_reg = df[['hour','day','month','artist_encoded','track_encoded']]\n",
    "y_reg = df['ms_played']\n",
    "\n",
    "X_clf.shape, X_reg.shape\n",
    "df.head(3)\n"
   ]
  },
  {
   "cell_type": "markdown",
   "id": "d2ca006f",
   "metadata": {},
   "source": [
    "## Train/Test Split"
   ]
  },
  {
   "cell_type": "code",
   "execution_count": 51,
   "id": "932689b5",
   "metadata": {},
   "outputs": [],
   "source": [
    "\n",
    "from sklearn.model_selection import train_test_split\n",
    "from sklearn.preprocessing import StandardScaler\n",
    "from sklearn.compose import ColumnTransformer\n",
    "from sklearn.pipeline import Pipeline\n",
    "from sklearn.linear_model import LogisticRegression\n",
    "from sklearn.metrics import accuracy_score, precision_score, recall_score, f1_score, confusion_matrix, classification_report\n",
    "\n",
    "Xc_train, Xc_test, yc_train, yc_test = train_test_split(\n",
    "    X_clf, y_clf, test_size=0.2, random_state=42, stratify=y_clf\n",
    ")\n",
    "\n",
    "Xr_train, Xr_test, yr_train, yr_test = train_test_split(\n",
    "    X_reg, y_reg, test_size=0.2, random_state=42\n",
    ")\n",
    "#Preprocessors\n",
    "numeric_features = ['hour','day','month','artist_encoded','track_encoded']\n",
    "pre_clf = ColumnTransformer([('num', StandardScaler(), numeric_features)])\n",
    "pre_reg = ColumnTransformer([('num', StandardScaler(), numeric_features)])\n"
   ]
  },
  {
   "cell_type": "code",
   "execution_count": 52,
   "id": "f5816ece",
   "metadata": {},
   "outputs": [
    {
     "name": "stdout",
     "output_type": "stream",
     "text": [
      "{'Accuracy': 0.947484318697451, 'Precision': 0.0, 'Recall': 0.0, 'F1-score': 0.0}\n",
      "[[28398     0]\n",
      " [ 1574     0]]\n",
      "              precision    recall  f1-score   support\n",
      "\n",
      "           0       0.95      1.00      0.97     28398\n",
      "           1       0.00      0.00      0.00      1574\n",
      "\n",
      "    accuracy                           0.95     29972\n",
      "   macro avg       0.47      0.50      0.49     29972\n",
      "weighted avg       0.90      0.95      0.92     29972\n",
      "\n"
     ]
    }
   ],
   "source": [
    "\n",
    "\n",
    "\n",
    "\n",
    "logit_clf = Pipeline([\n",
    "    ('prep', pre_clf),\n",
    "    ('clf', LogisticRegression(max_iter=1000, random_state=42))\n",
    "])\n",
    "\n",
    "logit_clf.fit(Xc_train, yc_train)\n",
    "yc_pred = logit_clf.predict(Xc_test)\n",
    "\n",
    "baseline_clf_metrics = {\n",
    "    'Accuracy': accuracy_score(yc_test, yc_pred),\n",
    "    'Precision': precision_score(yc_test, yc_pred, zero_division=0),\n",
    "    'Recall': recall_score(yc_test, yc_pred, zero_division=0),\n",
    "    'F1-score': f1_score(yc_test, yc_pred, zero_division=0)\n",
    "}\n",
    "print(baseline_clf_metrics)\n",
    "print(confusion_matrix(yc_test, yc_pred))\n",
    "print(classification_report(yc_test, yc_pred, zero_division=0))\n"
   ]
  },
  {
   "cell_type": "markdown",
   "id": "08213b1c",
   "metadata": {},
   "source": [
    "## Baseline Regression — Linear Regression (predict ms_played)"
   ]
  },
  {
   "cell_type": "code",
   "execution_count": 53,
   "id": "147f5dec",
   "metadata": {},
   "outputs": [
    {
     "data": {
      "text/plain": [
       "{'MAE': 101841.03295944587,\n",
       " 'MSE': 13855523547.4131,\n",
       " 'RMSE': 13855523547.4131,\n",
       " 'R2': 0.009185779728768217}"
      ]
     },
     "execution_count": 53,
     "metadata": {},
     "output_type": "execute_result"
    }
   ],
   "source": [
    "\n",
    "from sklearn.linear_model import LinearRegression\n",
    "from sklearn.metrics import mean_absolute_error, mean_squared_error, r2_score\n",
    "\n",
    "pre_reg = ColumnTransformer([('num', StandardScaler(), ['hour','day','month','artist_encoded','track_encoded'])])\n",
    "\n",
    "lin_reg = Pipeline([\n",
    "    ('prep', pre_reg),\n",
    "    ('reg', LinearRegression())\n",
    "])\n",
    "\n",
    "lin_reg.fit(Xr_train, yr_train)\n",
    "yr_pred = lin_reg.predict(Xr_test)\n",
    "\n",
    "baseline_reg_metrics = {\n",
    "    'MAE': mean_absolute_error(yr_test, yr_pred),\n",
    "    'MSE': mean_squared_error(yr_test, yr_pred),\n",
    "    'RMSE': mean_squared_error(yr_test, yr_pred),\n",
    "    'R2': r2_score(yr_test, yr_pred)\n",
    "}\n",
    "baseline_reg_metrics\n"
   ]
  },
  {
   "cell_type": "markdown",
   "id": "5497c5ad",
   "metadata": {},
   "source": [
    "## Neural Network — MLPClassifier (Classification: skipped)"
   ]
  },
  {
   "cell_type": "code",
   "execution_count": 54,
   "id": "a821b74e",
   "metadata": {},
   "outputs": [
    {
     "name": "stdout",
     "output_type": "stream",
     "text": [
      "{'Accuracy': 0.947484318697451, 'Precision': 0.0, 'Recall': 0.0, 'F1-score': 0.0}\n",
      "[[28398     0]\n",
      " [ 1574     0]]\n"
     ]
    }
   ],
   "source": [
    "\n",
    "from sklearn.neural_network import MLPClassifier\n",
    "\n",
    "mlp_clf = Pipeline([\n",
    "    ('prep', pre_clf),\n",
    "    ('mlp', MLPClassifier(\n",
    "        hidden_layer_sizes=(64,32),\n",
    "        activation='relu',\n",
    "        solver='adam',\n",
    "        learning_rate='adaptive',\n",
    "        early_stopping=True,\n",
    "        max_iter=60,\n",
    "        n_iter_no_change=5,\n",
    "        random_state=42,\n",
    "        verbose=False\n",
    "    ))\n",
    "])\n",
    "\n",
    "mlp_clf.fit(Xc_train, yc_train)\n",
    "yc_pred_nn = mlp_clf.predict(Xc_test)\n",
    "\n",
    "nn_clf_metrics = {\n",
    "    'Accuracy': accuracy_score(yc_test, yc_pred_nn),\n",
    "    'Precision': precision_score(yc_test, yc_pred_nn, zero_division=0),\n",
    "    'Recall': recall_score(yc_test, yc_pred_nn, zero_division=0),\n",
    "    'F1-score': f1_score(yc_test, yc_pred_nn, zero_division=0)\n",
    "}\n",
    "print(nn_clf_metrics)\n",
    "print(confusion_matrix(yc_test, yc_pred_nn))\n"
   ]
  },
  {
   "cell_type": "markdown",
   "id": "3733b3e6",
   "metadata": {},
   "source": [
    "## Neural Network — MLPRegressor (Regression: ms_played)"
   ]
  },
  {
   "cell_type": "code",
   "execution_count": 55,
   "id": "d0308844",
   "metadata": {},
   "outputs": [
    {
     "name": "stderr",
     "output_type": "stream",
     "text": [
      "/Library/Frameworks/Python.framework/Versions/3.13/lib/python3.13/site-packages/sklearn/neural_network/_multilayer_perceptron.py:691: ConvergenceWarning: Stochastic Optimizer: Maximum iterations (60) reached and the optimization hasn't converged yet.\n",
      "  warnings.warn(\n"
     ]
    },
    {
     "data": {
      "text/plain": [
       "{'MAE': 101468.57528561687,\n",
       " 'MSE': 13797422407.567907,\n",
       " 'RMSE': 13797422407.567907,\n",
       " 'R2': 0.013340616272879413}"
      ]
     },
     "execution_count": 55,
     "metadata": {},
     "output_type": "execute_result"
    }
   ],
   "source": [
    "\n",
    "from sklearn.neural_network import MLPRegressor\n",
    "\n",
    "mlp_reg = Pipeline([\n",
    "    ('prep', pre_reg),\n",
    "    ('mlp', MLPRegressor(\n",
    "        hidden_layer_sizes=(128,64),\n",
    "        activation='relu',\n",
    "        solver='adam',\n",
    "        learning_rate='adaptive',\n",
    "        early_stopping=True,\n",
    "        max_iter=60,\n",
    "        n_iter_no_change=5,\n",
    "        random_state=42,\n",
    "        verbose=False\n",
    "    ))\n",
    "])\n",
    "\n",
    "mlp_reg.fit(Xr_train, yr_train)\n",
    "yr_pred_nn = mlp_reg.predict(Xr_test)\n",
    "\n",
    "nn_reg_metrics = {\n",
    "    'MAE': mean_absolute_error(yr_test, yr_pred_nn),\n",
    "    'MSE': mean_squared_error(yr_test, yr_pred_nn),\n",
    "    'RMSE': mean_squared_error(yr_test, yr_pred_nn,),\n",
    "    'R2': r2_score(yr_test, yr_pred_nn)\n",
    "}\n",
    "nn_reg_metrics\n"
   ]
  },
  {
   "cell_type": "markdown",
   "id": "49904672",
   "metadata": {},
   "source": [
    "## Visualizations"
   ]
  },
  {
   "cell_type": "code",
   "execution_count": 56,
   "id": "8ea9a653",
   "metadata": {},
   "outputs": [
    {
     "data": {
      "text/plain": [
       "<Figure size 640x480 with 0 Axes>"
      ]
     },
     "metadata": {},
     "output_type": "display_data"
    },
    {
     "data": {
      "image/png": "[encoded data removed]",
      "text/plain": [
       "<Figure size 640x480 with 2 Axes>"
      ]
     },
     "metadata": {},
     "output_type": "display_data"
    }
   ],
   "source": [
    "\n",
    "import matplotlib.pyplot as plt\n",
    "from sklearn.metrics import ConfusionMatrixDisplay\n",
    "\n",
    "# Confusion matrix for NN classifier\n",
    "fig1 = plt.figure()\n",
    "disp = ConfusionMatrixDisplay.from_estimator(mlp_clf, Xc_test, yc_test)\n",
    "plt.title('Confusion Matrix — NN Classifier')\n",
    "plt.tight_layout()\n",
    "plt.show()\n",
    "\n",
    "\n"
   ]
  },
  {
   "cell_type": "markdown",
   "id": "d6401db7",
   "metadata": {},
   "source": [
    "## Summary"
   ]
  },
  {
   "cell_type": "code",
   "execution_count": 57,
   "id": "d765d0a8",
   "metadata": {},
   "outputs": [
    {
     "name": "stdout",
     "output_type": "stream",
     "text": [
      "Baseline Classification: {'Accuracy': 0.947484318697451, 'Precision': 0.0, 'Recall': 0.0, 'F1-score': 0.0}\n",
      "NN Classification: {'Accuracy': 0.947484318697451, 'Precision': 0.0, 'Recall': 0.0, 'F1-score': 0.0}\n",
      "Baseline Regression: {'MAE': 101841.03295944587, 'MSE': 13855523547.4131, 'RMSE': 13855523547.4131, 'R2': 0.009185779728768217}\n",
      "NN Regression: {'MAE': 101468.57528561687, 'MSE': 13797422407.567907, 'RMSE': 13797422407.567907, 'R2': 0.013340616272879413}\n"
     ]
    }
   ],
   "source": [
    "\n",
    "print(\"Baseline Classification:\", baseline_clf_metrics)\n",
    "print(\"NN Classification:\", nn_clf_metrics)\n",
    "print(\"Baseline Regression:\", baseline_reg_metrics)\n",
    "print(\"NN Regression:\", nn_reg_metrics)\n"
   ]
  },
  {
   "cell_type": "code",
   "execution_count": 58,
   "id": "a7afa8fd",
   "metadata": {},
   "outputs": [
    {
     "data": {
      "text/plain": [
       "{'SCENARIOS': {'Late-night surge': {'Skip Probability (avg)': 0.0,\n",
       "   'Predicted ms_played (avg)': 111968.42408389703},\n",
       "  'Weekend binge': {'Skip Probability (avg)': 0.0,\n",
       "   'Predicted ms_played (avg)': 150027.0108327361},\n",
       "  'New artist dominance': {'Skip Probability (avg)': 0.0,\n",
       "   'Predicted ms_played (avg)': 131957.46459679928}},\n",
       " 'BASELINE': {'Skip Probability (avg)': 0.0,\n",
       "  'Predicted ms_played (avg)': 122800.70217744356}}"
      ]
     },
     "execution_count": 58,
     "metadata": {},
     "output_type": "execute_result"
    }
   ],
   "source": [
    "def make_scenario(hour, day, month, artist_encoded, track_encoded, n=200):\n",
    "    return pd.DataFrame({\n",
    "        \"hour\": np.full(n, hour),\n",
    "        \"day\": np.full(n, day),\n",
    "        \"month\": np.full(n, month),\n",
    "        \"artist_encoded\": np.full(n, artist_encoded),\n",
    "        \"track_encoded\": np.full(n, track_encoded),\n",
    "    })\n",
    "\n",
    "# Baseline sample (midday, mid-month, June, median artist/track)\n",
    "baseline = make_scenario(\n",
    "    hour=12, day=15, month=6,\n",
    "    artist_encoded=int(df['artist_encoded'].median()),\n",
    "    track_encoded=int(df['track_encoded'].median())\n",
    ")\n",
    "\n",
    "# Scenario 1: Late-night streaming surge\n",
    "scenario1 = make_scenario(hour=1, day=15, month=7,\n",
    "                          artist_encoded=int(df['artist_encoded'].median()),\n",
    "                          track_encoded=int(df['track_encoded'].median()))\n",
    "\n",
    "# Scenario 2: Weekend binge\n",
    "scenario2 = make_scenario(hour=20, day=28, month=12,\n",
    "                          artist_encoded=int(df['artist_encoded'].median()),\n",
    "                          track_encoded=int(df['track_encoded'].median()))\n",
    "\n",
    "# Scenario 3: New artist dominance\n",
    "scenario3 = make_scenario(hour=17, day=10, month=4,\n",
    "                          artist_encoded=df['artist_encoded'].max(),\n",
    "                          track_encoded=df['track_encoded'].max())\n",
    "\n",
    "# Predictions\n",
    "baseline_clf_pred = mlp_clf.predict(baseline)\n",
    "baseline_reg_pred = mlp_reg.predict(baseline)\n",
    "\n",
    "scenarios = {\n",
    "    \"Late-night surge\": scenario1,\n",
    "    \"Weekend binge\": scenario2,\n",
    "    \"New artist dominance\": scenario3\n",
    "}\n",
    "\n",
    "results = {}\n",
    "for name, scenario in scenarios.items():\n",
    "    clf_pred = mlp_clf.predict(scenario)\n",
    "    reg_pred = mlp_reg.predict(scenario)\n",
    "    results[name] = {\n",
    "        \"Skip Probability (avg)\": float(np.mean(clf_pred)),\n",
    "        \"Predicted ms_played (avg)\": float(np.mean(reg_pred))\n",
    "    }\n",
    "\n",
    "baseline_results = {\n",
    "    \"Skip Probability (avg)\": float(np.mean(baseline_clf_pred)),\n",
    "    \"Predicted ms_played (avg)\": float(np.mean(baseline_reg_pred))\n",
    "}\n",
    "\n",
    "{'SCENARIOS' :results, 'BASELINE': baseline_results}\n",
    "\n",
    "\n",
    "\n",
    "\n",
    "\n",
    "\n"
   ]
  },
  {
   "cell_type": "code",
   "execution_count": 59,
   "id": "5587cd7e",
   "metadata": {},
   "outputs": [
    {
     "name": "stdout",
     "output_type": "stream",
     "text": [
      "successful\n"
     ]
    }
   ],
   "source": [
    "import os\n",
    "MET = r'/Users/ayanaaiken/Documents/SDC486L/archive/classMet.csv'\n",
    "Spotify_NN_Baseline_sceanarios = r'/Users/ayanaaiken/Documents/SDC486L/archive/Spotify_NN_Baseline_scenarios.csv'\n",
    "classMetrics = baseline_clf_metrics, nn_clf_metrics\n",
    "df1_1 = pd.DataFrame(data=classMetrics)\n",
    "df1_1.to_csv(MET)\n",
    "df.to_csv(Spotify_NN_Baseline_sceanarios)\n",
    "print(\"successful\")\n"
   ]
  },
  {
   "cell_type": "markdown",
   "id": "a66dccf9",
   "metadata": {},
   "source": [
    "Scenario Analysis — Neural Network Predictions\n",
    "\n",
    "I designed three scenarios by altering key input features (hour, day, month, artist/track encoding) to simulate different real-world conditions. These were compared against a baseline scenario representing typical listening behavior (midday, mid-month in June, with median artist/track encodings).\n",
    "\n",
    "\n",
    "Baseline\n",
    "-Assumption: Represents \"normal\" listening conditions — average time of day, middle of the month, and a median artist/track.\n",
    "-Rationale:  Provides a control benchmark for measuring how variations in time and cultural trends influence predictions.\n",
    "-Relevance: Essential for understanding relative changes in skip probability and listening duration across scenarios.\n",
    "\n",
    "---\n",
    "\n",
    "Scenario 1: Late-Night Streaming Surge\n",
    "-Assumption: Listening occurs at 1:00 AM in July, with average artist/track encodings.\n",
    "-Rationale: Nighttime listening often reflects passive or background use (e.g., studying, winding down), which may affect skip rates and duration.\n",
    "-Relevance: Helps identify whether the model predicts reduced attention spans or shorter sessions at late hours compared to baseline.\n",
    "\n",
    "---\n",
    "\n",
    "Scenario 2: Weekend Binge\n",
    "-Assumption: Listening happens at 8:00 PM on the 28th day of December (holiday season), with average artist/track encodings.\n",
    "-Rationale: Evening sessions during weekends/holidays are associated with leisure, parties, or binge-listening behaviors.\n",
    "-Relevance: Useful for analyzing whether the model captures seasonal and weekend engagement spikes, showing higher playtime or lower skip rates.\n",
    "\n",
    "---\n",
    "\n",
    "Scenario 3: New Artist Dominance\n",
    "-Assumption: A highly popular new artist/track dominates listening (using maximum encoded values), set at 5:00 PM in April.\n",
    "-Rationale: Viral or trending artists can significantly change listening behavior, often leading to lower skips and longer engagement.\n",
    "-Relevance: Tests the model’s sensitivity to cultural shifts in music trends, showing how predictions respond when new artists capture attention.\n",
    "\n",
    "---\n",
    "\n",
    "Insights\n",
    "These scenarios demonstrate how temporal factors (hour, day, month) and cultural shifts (new artist popularity) can influence user engagement metrics. By comparing each scenario to the baseline, we can better understand potential changes in skip probability and predicted listening time. This analysis supports strategic decisions for playlist curation, marketing campaigns, and personalized recommendations.\n"
   ]
  }
 ],
 "metadata": {
  "kernelspec": {
   "display_name": "Python 3",
   "language": "python",
   "name": "python3"
  },
  "language_info": {
   "codemirror_mode": {
    "name": "ipython",
    "version": 3
   },
   "file_extension": ".py",
   "mimetype": "text/x-python",
   "name": "python",
   "nbconvert_exporter": "python",
   "pygments_lexer": "ipython3",
   "version": "3.13.1"
  }
 },
 "nbformat": 4,
 "nbformat_minor": 5
}
